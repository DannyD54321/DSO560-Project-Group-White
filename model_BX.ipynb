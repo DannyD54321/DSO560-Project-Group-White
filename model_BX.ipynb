{
 "cells": [
  {
   "cell_type": "code",
   "execution_count": 1,
   "metadata": {},
   "outputs": [
    {
     "name": "stderr",
     "output_type": "stream",
     "text": [
      "Using TensorFlow backend.\n"
     ]
    }
   ],
   "source": [
    "import pandas as pd\n",
    "import numpy as np\n",
    "import matplotlib.pyplot as plt\n",
    "import re\n",
    "from numpy import array\n",
    "from keras.preprocessing.text import one_hot\n",
    "from keras.preprocessing.sequence import pad_sequences\n",
    "from numpy import asarray\n",
    "from numpy import zeros\n",
    "from keras.preprocessing.text import Tokenizer\n",
    "from keras.models import Sequential\n",
    "from keras.layers import Dense\n",
    "from keras.layers import Flatten, LSTM\n",
    "from keras.layers import Embedding\n",
    "from keras.layers.core import Activation, Dropout, Dense\n",
    "from keras.layers import GlobalMaxPooling1D\n",
    "from keras.models import Model\n",
    "from sklearn.model_selection import train_test_split\n",
    "from keras.layers import Input\n",
    "from keras.layers.merge import Concatenate"
   ]
  },
  {
   "cell_type": "code",
   "execution_count": 5,
   "metadata": {
    "scrolled": true
   },
   "outputs": [
    {
     "name": "stdout",
     "output_type": "stream",
     "text": [
      "(21263, 9)\n"
     ]
    },
    {
     "data": {
      "text/html": [
       "<div>\n",
       "<style scoped>\n",
       "    .dataframe tbody tr th:only-of-type {\n",
       "        vertical-align: middle;\n",
       "    }\n",
       "\n",
       "    .dataframe tbody tr th {\n",
       "        vertical-align: top;\n",
       "    }\n",
       "\n",
       "    .dataframe thead th {\n",
       "        text-align: right;\n",
       "    }\n",
       "</style>\n",
       "<table border=\"1\" class=\"dataframe\">\n",
       "  <thead>\n",
       "    <tr style=\"text-align: right;\">\n",
       "      <th></th>\n",
       "      <th>product_id</th>\n",
       "      <th>brand</th>\n",
       "      <th>name</th>\n",
       "      <th>description</th>\n",
       "      <th>brand_category</th>\n",
       "      <th>details</th>\n",
       "      <th>product_color_id</th>\n",
       "      <th>attribute_name</th>\n",
       "      <th>attribute_value</th>\n",
       "    </tr>\n",
       "  </thead>\n",
       "  <tbody>\n",
       "    <tr>\n",
       "      <th>2</th>\n",
       "      <td>01dtjcerf6f4nrz2wsjffa1eys</td>\n",
       "      <td>theory</td>\n",
       "      <td>teah stretch-silk camisole</td>\n",
       "      <td>beige stretch-silk slips on 93% silk, 7% spand...</td>\n",
       "      <td>clothing / tops / tanks and camis</td>\n",
       "      <td>fits true to size, take your normal size\\ncut ...</td>\n",
       "      <td>01dtjcergehdmq5fajqs2pz6nj</td>\n",
       "      <td>occasion</td>\n",
       "      <td>weekend</td>\n",
       "    </tr>\n",
       "    <tr>\n",
       "      <th>3</th>\n",
       "      <td>01dtjcerf6f4nrz2wsjffa1eys</td>\n",
       "      <td>theory</td>\n",
       "      <td>teah stretch-silk camisole</td>\n",
       "      <td>beige stretch-silk slips on 93% silk, 7% spand...</td>\n",
       "      <td>clothing / tops / tanks and camis</td>\n",
       "      <td>fits true to size, take your normal size\\ncut ...</td>\n",
       "      <td>01dtjcergehdmq5fajqs2pz6nj</td>\n",
       "      <td>occasion</td>\n",
       "      <td>work</td>\n",
       "    </tr>\n",
       "    <tr>\n",
       "      <th>12</th>\n",
       "      <td>01dtjcerf6f4nrz2wsjffa1eys</td>\n",
       "      <td>theory</td>\n",
       "      <td>teah stretch-silk camisole</td>\n",
       "      <td>beige stretch-silk slips on 93% silk, 7% spand...</td>\n",
       "      <td>clothing / tops / tanks and camis</td>\n",
       "      <td>fits true to size, take your normal size\\ncut ...</td>\n",
       "      <td>01dtjcergehdmq5fajqs2pz6nj</td>\n",
       "      <td>occasion</td>\n",
       "      <td>day to night</td>\n",
       "    </tr>\n",
       "    <tr>\n",
       "      <th>15</th>\n",
       "      <td>01dtjcerf6f4nrz2wsjffa1eys</td>\n",
       "      <td>theory</td>\n",
       "      <td>teah stretch-silk camisole</td>\n",
       "      <td>beige stretch-silk slips on 93% silk, 7% spand...</td>\n",
       "      <td>clothing / tops / tanks and camis</td>\n",
       "      <td>fits true to size, take your normal size\\ncut ...</td>\n",
       "      <td>01dtjcergehdmq5fajqs2pz6nj</td>\n",
       "      <td>occasion</td>\n",
       "      <td>night out</td>\n",
       "    </tr>\n",
       "    <tr>\n",
       "      <th>30</th>\n",
       "      <td>01dtjcerf6f4nrz2wsjffa1eys</td>\n",
       "      <td>theory</td>\n",
       "      <td>teah stretch-silk camisole</td>\n",
       "      <td>beige stretch-silk slips on 93% silk, 7% spand...</td>\n",
       "      <td>clothing / tops / tanks and camis</td>\n",
       "      <td>fits true to size, take your normal size\\ncut ...</td>\n",
       "      <td>01dtjcergehdmq5fajqs2pz6nj</td>\n",
       "      <td>occasion</td>\n",
       "      <td>work</td>\n",
       "    </tr>\n",
       "  </tbody>\n",
       "</table>\n",
       "</div>"
      ],
      "text/plain": [
       "                    product_id   brand                        name  \\\n",
       "2   01dtjcerf6f4nrz2wsjffa1eys  theory  teah stretch-silk camisole   \n",
       "3   01dtjcerf6f4nrz2wsjffa1eys  theory  teah stretch-silk camisole   \n",
       "12  01dtjcerf6f4nrz2wsjffa1eys  theory  teah stretch-silk camisole   \n",
       "15  01dtjcerf6f4nrz2wsjffa1eys  theory  teah stretch-silk camisole   \n",
       "30  01dtjcerf6f4nrz2wsjffa1eys  theory  teah stretch-silk camisole   \n",
       "\n",
       "                                          description  \\\n",
       "2   beige stretch-silk slips on 93% silk, 7% spand...   \n",
       "3   beige stretch-silk slips on 93% silk, 7% spand...   \n",
       "12  beige stretch-silk slips on 93% silk, 7% spand...   \n",
       "15  beige stretch-silk slips on 93% silk, 7% spand...   \n",
       "30  beige stretch-silk slips on 93% silk, 7% spand...   \n",
       "\n",
       "                       brand_category  \\\n",
       "2   clothing / tops / tanks and camis   \n",
       "3   clothing / tops / tanks and camis   \n",
       "12  clothing / tops / tanks and camis   \n",
       "15  clothing / tops / tanks and camis   \n",
       "30  clothing / tops / tanks and camis   \n",
       "\n",
       "                                              details  \\\n",
       "2   fits true to size, take your normal size\\ncut ...   \n",
       "3   fits true to size, take your normal size\\ncut ...   \n",
       "12  fits true to size, take your normal size\\ncut ...   \n",
       "15  fits true to size, take your normal size\\ncut ...   \n",
       "30  fits true to size, take your normal size\\ncut ...   \n",
       "\n",
       "              product_color_id attribute_name attribute_value  \n",
       "2   01dtjcergehdmq5fajqs2pz6nj       occasion         weekend  \n",
       "3   01dtjcergehdmq5fajqs2pz6nj       occasion            work  \n",
       "12  01dtjcergehdmq5fajqs2pz6nj       occasion    day to night  \n",
       "15  01dtjcergehdmq5fajqs2pz6nj       occasion       night out  \n",
       "30  01dtjcergehdmq5fajqs2pz6nj       occasion            work  "
      ]
     },
     "execution_count": 5,
     "metadata": {},
     "output_type": "execute_result"
    }
   ],
   "source": [
    "data = pd.read_csv(\"occasion_tag_all.csv\", index_col=0)\n",
    "for i in data.columns:\n",
    "    data[i] = data[i].str.lower()\n",
    "print(data.shape)\n",
    "data.head()"
   ]
  },
  {
   "cell_type": "code",
   "execution_count": 6,
   "metadata": {},
   "outputs": [
    {
     "data": {
      "text/plain": [
       "array(['weekend', 'work', 'day to night', 'night out', 'nightout',\n",
       "       'daytonight', 'vacation', 'workout', 'coldweather'], dtype=object)"
      ]
     },
     "execution_count": 6,
     "metadata": {},
     "output_type": "execute_result"
    }
   ],
   "source": [
    "data['attribute_value'].unique()"
   ]
  },
  {
   "cell_type": "code",
   "execution_count": 9,
   "metadata": {},
   "outputs": [],
   "source": [
    "def regex_cleaning(value):\n",
    "    new_value = re.sub(\"nightout\",'night out', value)\n",
    "    new_value1 = re.sub(\"daytonight\", 'day to night', new_value)\n",
    "    new_value2 = re.sub(\"coldweather\", 'cold weather', new_value1)\n",
    "    return new_value2\n",
    "data['attribute_value'] = data['attribute_value'].apply(regex_cleaning)"
   ]
  },
  {
   "cell_type": "code",
   "execution_count": 10,
   "metadata": {},
   "outputs": [
    {
     "data": {
      "text/plain": [
       "array(['weekend', 'work', 'day to night', 'night out', 'vacation',\n",
       "       'workout', 'cold weather'], dtype=object)"
      ]
     },
     "execution_count": 10,
     "metadata": {},
     "output_type": "execute_result"
    }
   ],
   "source": [
    "data['attribute_value'].unique()"
   ]
  },
  {
   "cell_type": "code",
   "execution_count": 11,
   "metadata": {},
   "outputs": [
    {
     "data": {
      "text/plain": [
       "product_id\n",
       "01dpc9gstt72khnn0mndnkh7rd    12\n",
       "01dpcb2keavxxkfvm7fxbne4vy    20\n",
       "01dpcg1c1p0mqav9nms3n1tdaa     8\n",
       "01dpchnew5f2rhjq3njmvpk6se    96\n",
       "01dpchnqm0pa0sxzzzx85pf2zj     4\n",
       "                              ..\n",
       "01e6076gtce5p3vh76vwjh4my9     3\n",
       "01e6078g3gratf2c96vkyywsgd     2\n",
       "01e6079dg58yw9k78d57c6j2y1     3\n",
       "01e6079qfkh4hpzfq31t6wdrrx     1\n",
       "01e607bhrqajdz76mjfn7rprk1     2\n",
       "Name: attribute_value, Length: 3914, dtype: int64"
      ]
     },
     "execution_count": 11,
     "metadata": {},
     "output_type": "execute_result"
    }
   ],
   "source": [
    "# Check whether we have duplicate records\n",
    "data.groupby('product_id')['attribute_value'].count()"
   ]
  },
  {
   "cell_type": "code",
   "execution_count": 12,
   "metadata": {},
   "outputs": [
    {
     "data": {
      "text/plain": [
       "(12625, 9)"
      ]
     },
     "execution_count": 12,
     "metadata": {},
     "output_type": "execute_result"
    }
   ],
   "source": [
    "# remove duplicate records\n",
    "data.drop_duplicates(subset =[\"product_id\",\"product_color_id\",'attribute_name','attribute_value'],\n",
    "                     keep = \"first\",inplace = True) \n",
    "data.shape"
   ]
  },
  {
   "cell_type": "code",
   "execution_count": 13,
   "metadata": {},
   "outputs": [
    {
     "data": {
      "text/plain": [
       "weekend         0.329426\n",
       "day to night    0.301307\n",
       "work            0.148277\n",
       "night out       0.095842\n",
       "vacation        0.077069\n",
       "cold weather    0.027564\n",
       "workout         0.020515\n",
       "Name: attribute_value, dtype: float64"
      ]
     },
     "execution_count": 13,
     "metadata": {},
     "output_type": "execute_result"
    }
   ],
   "source": [
    "#distribution of each occasion attribute value\n",
    "data['attribute_value'].value_counts(normalize=True)"
   ]
  },
  {
   "cell_type": "code",
   "execution_count": 23,
   "metadata": {},
   "outputs": [],
   "source": [
    "# drop records with both null value in description and details\n",
    "data.dropna(subset=[\"description\", \"details\"], how='all',inplace =True)"
   ]
  },
  {
   "cell_type": "code",
   "execution_count": 24,
   "metadata": {},
   "outputs": [
    {
     "data": {
      "text/plain": [
       "product_id             0\n",
       "brand                  0\n",
       "name                   0\n",
       "description          888\n",
       "brand_category       715\n",
       "details             1101\n",
       "product_color_id       0\n",
       "attribute_name         0\n",
       "attribute_value        0\n",
       "dtype: int64"
      ]
     },
     "execution_count": 24,
     "metadata": {},
     "output_type": "execute_result"
    }
   ],
   "source": [
    "data.isnull().sum()"
   ]
  },
  {
   "cell_type": "code",
   "execution_count": 37,
   "metadata": {},
   "outputs": [],
   "source": [
    "# Combine details and description into one \"Text\" column\n",
    "data= data.replace(np.nan, '', regex=True)\n",
    "data['text'] = data['description']+' '+data['details']\n",
    "data['id'] = data['product_id']+data['product_color_id']"
   ]
  },
  {
   "cell_type": "code",
   "execution_count": 26,
   "metadata": {},
   "outputs": [
    {
     "data": {
      "text/html": [
       "<div>\n",
       "<style scoped>\n",
       "    .dataframe tbody tr th:only-of-type {\n",
       "        vertical-align: middle;\n",
       "    }\n",
       "\n",
       "    .dataframe tbody tr th {\n",
       "        vertical-align: top;\n",
       "    }\n",
       "\n",
       "    .dataframe thead th {\n",
       "        text-align: right;\n",
       "    }\n",
       "</style>\n",
       "<table border=\"1\" class=\"dataframe\">\n",
       "  <thead>\n",
       "    <tr style=\"text-align: right;\">\n",
       "      <th></th>\n",
       "      <th>cold weather</th>\n",
       "      <th>day to night</th>\n",
       "      <th>night out</th>\n",
       "      <th>vacation</th>\n",
       "      <th>weekend</th>\n",
       "      <th>work</th>\n",
       "      <th>workout</th>\n",
       "    </tr>\n",
       "  </thead>\n",
       "  <tbody>\n",
       "    <tr>\n",
       "      <th>2</th>\n",
       "      <td>0</td>\n",
       "      <td>0</td>\n",
       "      <td>0</td>\n",
       "      <td>0</td>\n",
       "      <td>1</td>\n",
       "      <td>0</td>\n",
       "      <td>0</td>\n",
       "    </tr>\n",
       "    <tr>\n",
       "      <th>3</th>\n",
       "      <td>0</td>\n",
       "      <td>0</td>\n",
       "      <td>0</td>\n",
       "      <td>0</td>\n",
       "      <td>0</td>\n",
       "      <td>1</td>\n",
       "      <td>0</td>\n",
       "    </tr>\n",
       "    <tr>\n",
       "      <th>12</th>\n",
       "      <td>0</td>\n",
       "      <td>1</td>\n",
       "      <td>0</td>\n",
       "      <td>0</td>\n",
       "      <td>0</td>\n",
       "      <td>0</td>\n",
       "      <td>0</td>\n",
       "    </tr>\n",
       "    <tr>\n",
       "      <th>15</th>\n",
       "      <td>0</td>\n",
       "      <td>0</td>\n",
       "      <td>1</td>\n",
       "      <td>0</td>\n",
       "      <td>0</td>\n",
       "      <td>0</td>\n",
       "      <td>0</td>\n",
       "    </tr>\n",
       "    <tr>\n",
       "      <th>94</th>\n",
       "      <td>0</td>\n",
       "      <td>0</td>\n",
       "      <td>1</td>\n",
       "      <td>0</td>\n",
       "      <td>0</td>\n",
       "      <td>0</td>\n",
       "      <td>0</td>\n",
       "    </tr>\n",
       "  </tbody>\n",
       "</table>\n",
       "</div>"
      ],
      "text/plain": [
       "    cold weather  day to night  night out  vacation  weekend  work  workout\n",
       "2              0             0          0         0        1     0        0\n",
       "3              0             0          0         0        0     1        0\n",
       "12             0             1          0         0        0     0        0\n",
       "15             0             0          1         0        0     0        0\n",
       "94             0             0          1         0        0     0        0"
      ]
     },
     "execution_count": 26,
     "metadata": {},
     "output_type": "execute_result"
    }
   ],
   "source": [
    "dummies = pd.get_dummies(data['attribute_value'])\n",
    "dummies.head()"
   ]
  },
  {
   "cell_type": "code",
   "execution_count": 27,
   "metadata": {},
   "outputs": [],
   "source": [
    "data = pd.concat([data, dummies], axis=1, sort=False)"
   ]
  },
  {
   "cell_type": "code",
   "execution_count": 38,
   "metadata": {},
   "outputs": [
    {
     "data": {
      "text/html": [
       "<div>\n",
       "<style scoped>\n",
       "    .dataframe tbody tr th:only-of-type {\n",
       "        vertical-align: middle;\n",
       "    }\n",
       "\n",
       "    .dataframe tbody tr th {\n",
       "        vertical-align: top;\n",
       "    }\n",
       "\n",
       "    .dataframe thead th {\n",
       "        text-align: right;\n",
       "    }\n",
       "</style>\n",
       "<table border=\"1\" class=\"dataframe\">\n",
       "  <thead>\n",
       "    <tr style=\"text-align: right;\">\n",
       "      <th></th>\n",
       "      <th>product_id</th>\n",
       "      <th>brand</th>\n",
       "      <th>name</th>\n",
       "      <th>description</th>\n",
       "      <th>brand_category</th>\n",
       "      <th>details</th>\n",
       "      <th>product_color_id</th>\n",
       "      <th>attribute_name</th>\n",
       "      <th>attribute_value</th>\n",
       "      <th>text</th>\n",
       "      <th>cold weather</th>\n",
       "      <th>day to night</th>\n",
       "      <th>night out</th>\n",
       "      <th>vacation</th>\n",
       "      <th>weekend</th>\n",
       "      <th>work</th>\n",
       "      <th>workout</th>\n",
       "      <th>id</th>\n",
       "    </tr>\n",
       "  </thead>\n",
       "  <tbody>\n",
       "    <tr>\n",
       "      <th>2</th>\n",
       "      <td>01dtjcerf6f4nrz2wsjffa1eys</td>\n",
       "      <td>theory</td>\n",
       "      <td>teah stretch-silk camisole</td>\n",
       "      <td>beige stretch-silk slips on 93% silk, 7% spand...</td>\n",
       "      <td>clothing / tops / tanks and camis</td>\n",
       "      <td>fits true to size, take your normal size\\ncut ...</td>\n",
       "      <td>01dtjcergehdmq5fajqs2pz6nj</td>\n",
       "      <td>occasion</td>\n",
       "      <td>weekend</td>\n",
       "      <td>beige stretch-silk slips on 93% silk, 7% spand...</td>\n",
       "      <td>0</td>\n",
       "      <td>0</td>\n",
       "      <td>0</td>\n",
       "      <td>0</td>\n",
       "      <td>1</td>\n",
       "      <td>0</td>\n",
       "      <td>0</td>\n",
       "      <td>01dtjcerf6f4nrz2wsjffa1eys01dtjcergehdmq5fajqs...</td>\n",
       "    </tr>\n",
       "    <tr>\n",
       "      <th>3</th>\n",
       "      <td>01dtjcerf6f4nrz2wsjffa1eys</td>\n",
       "      <td>theory</td>\n",
       "      <td>teah stretch-silk camisole</td>\n",
       "      <td>beige stretch-silk slips on 93% silk, 7% spand...</td>\n",
       "      <td>clothing / tops / tanks and camis</td>\n",
       "      <td>fits true to size, take your normal size\\ncut ...</td>\n",
       "      <td>01dtjcergehdmq5fajqs2pz6nj</td>\n",
       "      <td>occasion</td>\n",
       "      <td>work</td>\n",
       "      <td>beige stretch-silk slips on 93% silk, 7% spand...</td>\n",
       "      <td>0</td>\n",
       "      <td>0</td>\n",
       "      <td>0</td>\n",
       "      <td>0</td>\n",
       "      <td>0</td>\n",
       "      <td>1</td>\n",
       "      <td>0</td>\n",
       "      <td>01dtjcerf6f4nrz2wsjffa1eys01dtjcergehdmq5fajqs...</td>\n",
       "    </tr>\n",
       "    <tr>\n",
       "      <th>12</th>\n",
       "      <td>01dtjcerf6f4nrz2wsjffa1eys</td>\n",
       "      <td>theory</td>\n",
       "      <td>teah stretch-silk camisole</td>\n",
       "      <td>beige stretch-silk slips on 93% silk, 7% spand...</td>\n",
       "      <td>clothing / tops / tanks and camis</td>\n",
       "      <td>fits true to size, take your normal size\\ncut ...</td>\n",
       "      <td>01dtjcergehdmq5fajqs2pz6nj</td>\n",
       "      <td>occasion</td>\n",
       "      <td>day to night</td>\n",
       "      <td>beige stretch-silk slips on 93% silk, 7% spand...</td>\n",
       "      <td>0</td>\n",
       "      <td>1</td>\n",
       "      <td>0</td>\n",
       "      <td>0</td>\n",
       "      <td>0</td>\n",
       "      <td>0</td>\n",
       "      <td>0</td>\n",
       "      <td>01dtjcerf6f4nrz2wsjffa1eys01dtjcergehdmq5fajqs...</td>\n",
       "    </tr>\n",
       "    <tr>\n",
       "      <th>15</th>\n",
       "      <td>01dtjcerf6f4nrz2wsjffa1eys</td>\n",
       "      <td>theory</td>\n",
       "      <td>teah stretch-silk camisole</td>\n",
       "      <td>beige stretch-silk slips on 93% silk, 7% spand...</td>\n",
       "      <td>clothing / tops / tanks and camis</td>\n",
       "      <td>fits true to size, take your normal size\\ncut ...</td>\n",
       "      <td>01dtjcergehdmq5fajqs2pz6nj</td>\n",
       "      <td>occasion</td>\n",
       "      <td>night out</td>\n",
       "      <td>beige stretch-silk slips on 93% silk, 7% spand...</td>\n",
       "      <td>0</td>\n",
       "      <td>0</td>\n",
       "      <td>1</td>\n",
       "      <td>0</td>\n",
       "      <td>0</td>\n",
       "      <td>0</td>\n",
       "      <td>0</td>\n",
       "      <td>01dtjcerf6f4nrz2wsjffa1eys01dtjcergehdmq5fajqs...</td>\n",
       "    </tr>\n",
       "    <tr>\n",
       "      <th>94</th>\n",
       "      <td>01dvpbj6464ykygvae0a1hmkgn</td>\n",
       "      <td>alexander wang</td>\n",
       "      <td>layered velvet mini dress</td>\n",
       "      <td>black velvet concealed hook and zip fastening ...</td>\n",
       "      <td>clothing / dresses / mini</td>\n",
       "      <td>fits true to size, take your normal size \\ndes...</td>\n",
       "      <td>01dvpbj64g517982dcfq9wsfn0</td>\n",
       "      <td>occasion</td>\n",
       "      <td>night out</td>\n",
       "      <td>black velvet concealed hook and zip fastening ...</td>\n",
       "      <td>0</td>\n",
       "      <td>0</td>\n",
       "      <td>1</td>\n",
       "      <td>0</td>\n",
       "      <td>0</td>\n",
       "      <td>0</td>\n",
       "      <td>0</td>\n",
       "      <td>01dvpbj6464ykygvae0a1hmkgn01dvpbj64g517982dcfq...</td>\n",
       "    </tr>\n",
       "  </tbody>\n",
       "</table>\n",
       "</div>"
      ],
      "text/plain": [
       "                    product_id           brand                        name  \\\n",
       "2   01dtjcerf6f4nrz2wsjffa1eys          theory  teah stretch-silk camisole   \n",
       "3   01dtjcerf6f4nrz2wsjffa1eys          theory  teah stretch-silk camisole   \n",
       "12  01dtjcerf6f4nrz2wsjffa1eys          theory  teah stretch-silk camisole   \n",
       "15  01dtjcerf6f4nrz2wsjffa1eys          theory  teah stretch-silk camisole   \n",
       "94  01dvpbj6464ykygvae0a1hmkgn  alexander wang   layered velvet mini dress   \n",
       "\n",
       "                                          description  \\\n",
       "2   beige stretch-silk slips on 93% silk, 7% spand...   \n",
       "3   beige stretch-silk slips on 93% silk, 7% spand...   \n",
       "12  beige stretch-silk slips on 93% silk, 7% spand...   \n",
       "15  beige stretch-silk slips on 93% silk, 7% spand...   \n",
       "94  black velvet concealed hook and zip fastening ...   \n",
       "\n",
       "                       brand_category  \\\n",
       "2   clothing / tops / tanks and camis   \n",
       "3   clothing / tops / tanks and camis   \n",
       "12  clothing / tops / tanks and camis   \n",
       "15  clothing / tops / tanks and camis   \n",
       "94          clothing / dresses / mini   \n",
       "\n",
       "                                              details  \\\n",
       "2   fits true to size, take your normal size\\ncut ...   \n",
       "3   fits true to size, take your normal size\\ncut ...   \n",
       "12  fits true to size, take your normal size\\ncut ...   \n",
       "15  fits true to size, take your normal size\\ncut ...   \n",
       "94  fits true to size, take your normal size \\ndes...   \n",
       "\n",
       "              product_color_id attribute_name attribute_value  \\\n",
       "2   01dtjcergehdmq5fajqs2pz6nj       occasion         weekend   \n",
       "3   01dtjcergehdmq5fajqs2pz6nj       occasion            work   \n",
       "12  01dtjcergehdmq5fajqs2pz6nj       occasion    day to night   \n",
       "15  01dtjcergehdmq5fajqs2pz6nj       occasion       night out   \n",
       "94  01dvpbj64g517982dcfq9wsfn0       occasion       night out   \n",
       "\n",
       "                                                 text  cold weather  \\\n",
       "2   beige stretch-silk slips on 93% silk, 7% spand...             0   \n",
       "3   beige stretch-silk slips on 93% silk, 7% spand...             0   \n",
       "12  beige stretch-silk slips on 93% silk, 7% spand...             0   \n",
       "15  beige stretch-silk slips on 93% silk, 7% spand...             0   \n",
       "94  black velvet concealed hook and zip fastening ...             0   \n",
       "\n",
       "    day to night  night out  vacation  weekend  work  workout  \\\n",
       "2              0          0         0        1     0        0   \n",
       "3              0          0         0        0     1        0   \n",
       "12             1          0         0        0     0        0   \n",
       "15             0          1         0        0     0        0   \n",
       "94             0          1         0        0     0        0   \n",
       "\n",
       "                                                   id  \n",
       "2   01dtjcerf6f4nrz2wsjffa1eys01dtjcergehdmq5fajqs...  \n",
       "3   01dtjcerf6f4nrz2wsjffa1eys01dtjcergehdmq5fajqs...  \n",
       "12  01dtjcerf6f4nrz2wsjffa1eys01dtjcergehdmq5fajqs...  \n",
       "15  01dtjcerf6f4nrz2wsjffa1eys01dtjcergehdmq5fajqs...  \n",
       "94  01dvpbj6464ykygvae0a1hmkgn01dvpbj64g517982dcfq...  "
      ]
     },
     "execution_count": 38,
     "metadata": {},
     "output_type": "execute_result"
    }
   ],
   "source": [
    "data.head()"
   ]
  },
  {
   "cell_type": "markdown",
   "metadata": {},
   "source": [
    "## Description & Details"
   ]
  },
  {
   "cell_type": "code",
   "execution_count": 39,
   "metadata": {},
   "outputs": [
    {
     "data": {
      "text/html": [
       "<div>\n",
       "<style scoped>\n",
       "    .dataframe tbody tr th:only-of-type {\n",
       "        vertical-align: middle;\n",
       "    }\n",
       "\n",
       "    .dataframe tbody tr th {\n",
       "        vertical-align: top;\n",
       "    }\n",
       "\n",
       "    .dataframe thead th {\n",
       "        text-align: right;\n",
       "    }\n",
       "</style>\n",
       "<table border=\"1\" class=\"dataframe\">\n",
       "  <thead>\n",
       "    <tr style=\"text-align: right;\">\n",
       "      <th></th>\n",
       "      <th>id</th>\n",
       "      <th>text</th>\n",
       "      <th>cold weather</th>\n",
       "      <th>day to night</th>\n",
       "      <th>night out</th>\n",
       "      <th>vacation</th>\n",
       "      <th>weekend</th>\n",
       "      <th>work</th>\n",
       "      <th>workout</th>\n",
       "    </tr>\n",
       "  </thead>\n",
       "  <tbody>\n",
       "    <tr>\n",
       "      <th>2</th>\n",
       "      <td>01dtjcerf6f4nrz2wsjffa1eys01dtjcergehdmq5fajqs...</td>\n",
       "      <td>beige stretch-silk slips on 93% silk, 7% spand...</td>\n",
       "      <td>0</td>\n",
       "      <td>0</td>\n",
       "      <td>0</td>\n",
       "      <td>0</td>\n",
       "      <td>1</td>\n",
       "      <td>0</td>\n",
       "      <td>0</td>\n",
       "    </tr>\n",
       "    <tr>\n",
       "      <th>3</th>\n",
       "      <td>01dtjcerf6f4nrz2wsjffa1eys01dtjcergehdmq5fajqs...</td>\n",
       "      <td>beige stretch-silk slips on 93% silk, 7% spand...</td>\n",
       "      <td>0</td>\n",
       "      <td>0</td>\n",
       "      <td>0</td>\n",
       "      <td>0</td>\n",
       "      <td>0</td>\n",
       "      <td>1</td>\n",
       "      <td>0</td>\n",
       "    </tr>\n",
       "    <tr>\n",
       "      <th>12</th>\n",
       "      <td>01dtjcerf6f4nrz2wsjffa1eys01dtjcergehdmq5fajqs...</td>\n",
       "      <td>beige stretch-silk slips on 93% silk, 7% spand...</td>\n",
       "      <td>0</td>\n",
       "      <td>1</td>\n",
       "      <td>0</td>\n",
       "      <td>0</td>\n",
       "      <td>0</td>\n",
       "      <td>0</td>\n",
       "      <td>0</td>\n",
       "    </tr>\n",
       "    <tr>\n",
       "      <th>15</th>\n",
       "      <td>01dtjcerf6f4nrz2wsjffa1eys01dtjcergehdmq5fajqs...</td>\n",
       "      <td>beige stretch-silk slips on 93% silk, 7% spand...</td>\n",
       "      <td>0</td>\n",
       "      <td>0</td>\n",
       "      <td>1</td>\n",
       "      <td>0</td>\n",
       "      <td>0</td>\n",
       "      <td>0</td>\n",
       "      <td>0</td>\n",
       "    </tr>\n",
       "    <tr>\n",
       "      <th>94</th>\n",
       "      <td>01dvpbj6464ykygvae0a1hmkgn01dvpbj64g517982dcfq...</td>\n",
       "      <td>black velvet concealed hook and zip fastening ...</td>\n",
       "      <td>0</td>\n",
       "      <td>0</td>\n",
       "      <td>1</td>\n",
       "      <td>0</td>\n",
       "      <td>0</td>\n",
       "      <td>0</td>\n",
       "      <td>0</td>\n",
       "    </tr>\n",
       "  </tbody>\n",
       "</table>\n",
       "</div>"
      ],
      "text/plain": [
       "                                                   id  \\\n",
       "2   01dtjcerf6f4nrz2wsjffa1eys01dtjcergehdmq5fajqs...   \n",
       "3   01dtjcerf6f4nrz2wsjffa1eys01dtjcergehdmq5fajqs...   \n",
       "12  01dtjcerf6f4nrz2wsjffa1eys01dtjcergehdmq5fajqs...   \n",
       "15  01dtjcerf6f4nrz2wsjffa1eys01dtjcergehdmq5fajqs...   \n",
       "94  01dvpbj6464ykygvae0a1hmkgn01dvpbj64g517982dcfq...   \n",
       "\n",
       "                                                 text  cold weather  \\\n",
       "2   beige stretch-silk slips on 93% silk, 7% spand...             0   \n",
       "3   beige stretch-silk slips on 93% silk, 7% spand...             0   \n",
       "12  beige stretch-silk slips on 93% silk, 7% spand...             0   \n",
       "15  beige stretch-silk slips on 93% silk, 7% spand...             0   \n",
       "94  black velvet concealed hook and zip fastening ...             0   \n",
       "\n",
       "    day to night  night out  vacation  weekend  work  workout  \n",
       "2              0          0         0        1     0        0  \n",
       "3              0          0         0        0     1        0  \n",
       "12             1          0         0        0     0        0  \n",
       "15             0          1         0        0     0        0  \n",
       "94             0          1         0        0     0        0  "
      ]
     },
     "execution_count": 39,
     "metadata": {},
     "output_type": "execute_result"
    }
   ],
   "source": [
    "text = data.iloc[:,[-1,9,10,11,12,13,14,15,16]]\n",
    "text.head()"
   ]
  },
  {
   "cell_type": "code",
   "execution_count": 40,
   "metadata": {},
   "outputs": [
    {
     "data": {
      "text/html": [
       "<div>\n",
       "<style scoped>\n",
       "    .dataframe tbody tr th:only-of-type {\n",
       "        vertical-align: middle;\n",
       "    }\n",
       "\n",
       "    .dataframe tbody tr th {\n",
       "        vertical-align: top;\n",
       "    }\n",
       "\n",
       "    .dataframe thead th {\n",
       "        text-align: right;\n",
       "    }\n",
       "</style>\n",
       "<table border=\"1\" class=\"dataframe\">\n",
       "  <thead>\n",
       "    <tr style=\"text-align: right;\">\n",
       "      <th></th>\n",
       "      <th>id</th>\n",
       "      <th>text</th>\n",
       "      <th>cold weather</th>\n",
       "      <th>day to night</th>\n",
       "      <th>night out</th>\n",
       "      <th>vacation</th>\n",
       "      <th>weekend</th>\n",
       "      <th>work</th>\n",
       "      <th>workout</th>\n",
       "    </tr>\n",
       "  </thead>\n",
       "  <tbody>\n",
       "    <tr>\n",
       "      <th>0</th>\n",
       "      <td>01dpc9gstt72khnn0mndnkh7rd01dpc9gstzypv54n9b1t...</td>\n",
       "      <td>your new wear-to-work essential, this roomy to...</td>\n",
       "      <td>0</td>\n",
       "      <td>1</td>\n",
       "      <td>0</td>\n",
       "      <td>0</td>\n",
       "      <td>0</td>\n",
       "      <td>1</td>\n",
       "      <td>0</td>\n",
       "    </tr>\n",
       "    <tr>\n",
       "      <th>1</th>\n",
       "      <td>01dpc9gstt72khnn0mndnkh7rd01dpc9gtp1qdcw3exqtt...</td>\n",
       "      <td>your new wear-to-work essential, this roomy to...</td>\n",
       "      <td>0</td>\n",
       "      <td>1</td>\n",
       "      <td>0</td>\n",
       "      <td>0</td>\n",
       "      <td>0</td>\n",
       "      <td>1</td>\n",
       "      <td>0</td>\n",
       "    </tr>\n",
       "    <tr>\n",
       "      <th>2</th>\n",
       "      <td>01dpc9gstt72khnn0mndnkh7rd01dpc9gvg1zn8rrax77s...</td>\n",
       "      <td>your new wear-to-work essential, this roomy to...</td>\n",
       "      <td>0</td>\n",
       "      <td>1</td>\n",
       "      <td>0</td>\n",
       "      <td>0</td>\n",
       "      <td>0</td>\n",
       "      <td>1</td>\n",
       "      <td>0</td>\n",
       "    </tr>\n",
       "    <tr>\n",
       "      <th>3</th>\n",
       "      <td>01dpcb2keavxxkfvm7fxbne4vy01dpcb2kef1cfywfwa97...</td>\n",
       "      <td>a classic fall silhouette in a classic fall-fr...</td>\n",
       "      <td>0</td>\n",
       "      <td>1</td>\n",
       "      <td>0</td>\n",
       "      <td>0</td>\n",
       "      <td>1</td>\n",
       "      <td>1</td>\n",
       "      <td>0</td>\n",
       "    </tr>\n",
       "    <tr>\n",
       "      <th>4</th>\n",
       "      <td>01dpcb2keavxxkfvm7fxbne4vy01dpcb2mmtpctv3rnjv2...</td>\n",
       "      <td>a classic fall silhouette in a classic fall-fr...</td>\n",
       "      <td>0</td>\n",
       "      <td>1</td>\n",
       "      <td>0</td>\n",
       "      <td>0</td>\n",
       "      <td>1</td>\n",
       "      <td>1</td>\n",
       "      <td>0</td>\n",
       "    </tr>\n",
       "  </tbody>\n",
       "</table>\n",
       "</div>"
      ],
      "text/plain": [
       "                                                  id  \\\n",
       "0  01dpc9gstt72khnn0mndnkh7rd01dpc9gstzypv54n9b1t...   \n",
       "1  01dpc9gstt72khnn0mndnkh7rd01dpc9gtp1qdcw3exqtt...   \n",
       "2  01dpc9gstt72khnn0mndnkh7rd01dpc9gvg1zn8rrax77s...   \n",
       "3  01dpcb2keavxxkfvm7fxbne4vy01dpcb2kef1cfywfwa97...   \n",
       "4  01dpcb2keavxxkfvm7fxbne4vy01dpcb2mmtpctv3rnjv2...   \n",
       "\n",
       "                                                text  cold weather  \\\n",
       "0  your new wear-to-work essential, this roomy to...             0   \n",
       "1  your new wear-to-work essential, this roomy to...             0   \n",
       "2  your new wear-to-work essential, this roomy to...             0   \n",
       "3  a classic fall silhouette in a classic fall-fr...             0   \n",
       "4  a classic fall silhouette in a classic fall-fr...             0   \n",
       "\n",
       "   day to night  night out  vacation  weekend  work  workout  \n",
       "0             1          0         0        0     1        0  \n",
       "1             1          0         0        0     1        0  \n",
       "2             1          0         0        0     1        0  \n",
       "3             1          0         0        1     1        0  \n",
       "4             1          0         0        1     1        0  "
      ]
     },
     "execution_count": 40,
     "metadata": {},
     "output_type": "execute_result"
    }
   ],
   "source": [
    "text = text.groupby(['id','text']).sum().reset_index()\n",
    "text.head()"
   ]
  },
  {
   "cell_type": "code",
   "execution_count": 46,
   "metadata": {},
   "outputs": [
    {
     "data": {
      "text/html": [
       "<div>\n",
       "<style scoped>\n",
       "    .dataframe tbody tr th:only-of-type {\n",
       "        vertical-align: middle;\n",
       "    }\n",
       "\n",
       "    .dataframe tbody tr th {\n",
       "        vertical-align: top;\n",
       "    }\n",
       "\n",
       "    .dataframe thead th {\n",
       "        text-align: right;\n",
       "    }\n",
       "</style>\n",
       "<table border=\"1\" class=\"dataframe\">\n",
       "  <thead>\n",
       "    <tr style=\"text-align: right;\">\n",
       "      <th></th>\n",
       "      <th>id</th>\n",
       "      <th>text</th>\n",
       "      <th>cold weather</th>\n",
       "      <th>day to night</th>\n",
       "      <th>night out</th>\n",
       "      <th>vacation</th>\n",
       "      <th>weekend</th>\n",
       "      <th>work</th>\n",
       "      <th>workout</th>\n",
       "    </tr>\n",
       "  </thead>\n",
       "  <tbody>\n",
       "    <tr>\n",
       "      <th>877</th>\n",
       "      <td>01dtjcerf6f4nrz2wsjffa1eys01dtjcergehdmq5fajqs...</td>\n",
       "      <td>beige stretch-silk slips on 93% silk, 7% spand...</td>\n",
       "      <td>0</td>\n",
       "      <td>1</td>\n",
       "      <td>1</td>\n",
       "      <td>0</td>\n",
       "      <td>1</td>\n",
       "      <td>1</td>\n",
       "      <td>0</td>\n",
       "    </tr>\n",
       "  </tbody>\n",
       "</table>\n",
       "</div>"
      ],
      "text/plain": [
       "                                                    id  \\\n",
       "877  01dtjcerf6f4nrz2wsjffa1eys01dtjcergehdmq5fajqs...   \n",
       "\n",
       "                                                  text  cold weather  \\\n",
       "877  beige stretch-silk slips on 93% silk, 7% spand...             0   \n",
       "\n",
       "     day to night  night out  vacation  weekend  work  workout  \n",
       "877             1          1         0        1     1        0  "
      ]
     },
     "execution_count": 46,
     "metadata": {},
     "output_type": "execute_result"
    }
   ],
   "source": [
    "# check one product\n",
    "text[text[\"id\"]==\"01dtjcerf6f4nrz2wsjffa1eys01dtjcergehdmq5fajqs2pz6nj\"]"
   ]
  },
  {
   "cell_type": "markdown",
   "metadata": {},
   "source": [
    "## Creating Embedding: Description"
   ]
  },
  {
   "cell_type": "code",
   "execution_count": 47,
   "metadata": {},
   "outputs": [],
   "source": [
    "docs = text['text']\n",
    "labels = text.iloc[:,2:]"
   ]
  },
  {
   "cell_type": "code",
   "execution_count": 48,
   "metadata": {},
   "outputs": [],
   "source": [
    "# Preprocessing: remove stopwords/punctuation, lemmatization\n",
    "import spacy\n",
    "nlp = spacy.load('en_core_web_md')\n",
    "\n",
    "def preprocess_text(sen):\n",
    "    # Remove punctuations and numbers\n",
    "    sentence = re.sub('[^a-zA-Z]', ' ', sen)\n",
    "\n",
    "    # Single character removal\n",
    "    sentence = re.sub(r\"\\s+[a-zA-Z]\\s+\", ' ', sentence)\n",
    "\n",
    "    # Removing multiple spaces\n",
    "    sentence = re.sub(r'\\s+', ' ', sentence)\n",
    "    \n",
    "    #remove stopwords and do lemmatization\n",
    "    doc = nlp(sentence)\n",
    "    tokens = [token.lemma_ for token in doc if not token.is_stop]\n",
    "    \n",
    "    return \" \".join(tokens)"
   ]
  },
  {
   "cell_type": "code",
   "execution_count": 49,
   "metadata": {},
   "outputs": [],
   "source": [
    "X=[]\n",
    "for sen in list(docs):\n",
    "    X.append(preprocess_text(sen))\n",
    "\n",
    "y=labels.values"
   ]
  },
  {
   "cell_type": "code",
   "execution_count": 50,
   "metadata": {},
   "outputs": [],
   "source": [
    "X_train, X_test, y_train, y_test = \\\n",
    "    train_test_split(X, y, test_size=0.2,random_state=42)"
   ]
  },
  {
   "cell_type": "markdown",
   "metadata": {},
   "source": [
    "## Convert text inputs to embedded vectors"
   ]
  },
  {
   "cell_type": "code",
   "execution_count": null,
   "metadata": {},
   "outputs": [],
   "source": [
    "tokenizer = Tokenizer(num_words=5000, oov_token=\"UNKNOWN_TOKEN\")\n",
    "tokenizer.fit_on_texts(X_train)\n",
    "\n",
    "X_train = tokenizer.texts_to_sequences(X_train)\n",
    "X_test = tokenizer.texts_to_sequences(X_test)\n",
    "\n",
    "vocab_size = len(tokenizer.word_index) + 1"
   ]
  },
  {
   "cell_type": "code",
   "execution_count": 52,
   "metadata": {},
   "outputs": [
    {
     "data": {
      "text/plain": [
       "256"
      ]
     },
     "execution_count": 52,
     "metadata": {},
     "output_type": "execute_result"
    }
   ],
   "source": [
    "from keras.preprocessing.text import text_to_word_sequence\n",
    "from typing import List\n",
    "def get_max_token_length_per_doc(docs: List[List[str]])-> int:\n",
    "    return max(list(map(lambda x: len(x.split()), docs)))\n",
    "max_length = get_max_token_length_per_doc(docs)\n",
    "max_length"
   ]
  },
  {
   "cell_type": "code",
   "execution_count": 53,
   "metadata": {},
   "outputs": [],
   "source": [
    "X_train = pad_sequences(X_train, padding='post', maxlen=max_length)\n",
    "X_test = pad_sequences(X_test, padding='post', maxlen=max_length)"
   ]
  },
  {
   "cell_type": "code",
   "execution_count": 54,
   "metadata": {},
   "outputs": [
    {
     "data": {
      "text/plain": [
       "(4319, 256)"
      ]
     },
     "execution_count": 54,
     "metadata": {},
     "output_type": "execute_result"
    }
   ],
   "source": [
    "X_train.shape"
   ]
  },
  {
   "cell_type": "code",
   "execution_count": 55,
   "metadata": {},
   "outputs": [
    {
     "name": "stdout",
     "output_type": "stream",
     "text": [
      "Loaded 400000 word vectors.\n"
     ]
    }
   ],
   "source": [
    "# using GloVe word embeddings to convert text inputs \n",
    "# to their numeric counterparts.\n",
    "\n",
    "def load_glove_vectors():\n",
    "    embeddings_index = {}\n",
    "    with open('glove.6B.100d.txt') as f:\n",
    "        for line in f:\n",
    "            values = line.split()\n",
    "            word = values[0]\n",
    "            coefs = asarray(values[1:], dtype='float32')\n",
    "            embeddings_index[word] = coefs\n",
    "    print('Loaded %s word vectors.' % len(embeddings_index))\n",
    "    return embeddings_index\n",
    "\n",
    "embeddings_index = load_glove_vectors()"
   ]
  },
  {
   "cell_type": "code",
   "execution_count": 56,
   "metadata": {},
   "outputs": [],
   "source": [
    "EMBEDDING_SIZE = 100\n",
    "embedding_matrix = zeros((vocab_size, EMBEDDING_SIZE))\n",
    "for word, i in tokenizer.word_index.items():\n",
    "    embedding_vector = embeddings_index.get(word)\n",
    "    if embedding_vector is not None: \n",
    "        embedding_matrix[i] = embedding_vector"
   ]
  },
  {
   "cell_type": "markdown",
   "metadata": {},
   "source": [
    "## Predictive Model: LSTM"
   ]
  },
  {
   "cell_type": "code",
   "execution_count": 62,
   "metadata": {},
   "outputs": [],
   "source": [
    "deep_inputs = Input(shape=(max_length,))\n",
    "embedding_layer = Embedding(vocab_size, 100, weights=[embedding_matrix], trainable=False)(deep_inputs)\n",
    "LSTM_Layer_1 = LSTM(128)(embedding_layer)\n",
    "dense_layer_1 = Dense(7, activation='sigmoid')(LSTM_Layer_1)\n",
    "model_lstm = Model(inputs=deep_inputs, outputs=dense_layer_1)\n",
    "\n",
    "model_lstm.compile(loss='binary_crossentropy', optimizer='adam', metrics=['acc'])"
   ]
  },
  {
   "cell_type": "code",
   "execution_count": 63,
   "metadata": {},
   "outputs": [
    {
     "name": "stdout",
     "output_type": "stream",
     "text": [
      "Epoch 1/10\n",
      "4319/4319 [==============================] - 23s 5ms/step - loss: 0.4803 - acc: 0.8012\n",
      "Epoch 2/10\n",
      "4319/4319 [==============================] - 21s 5ms/step - loss: 0.4628 - acc: 0.8022\n",
      "Epoch 3/10\n",
      "4319/4319 [==============================] - 23s 5ms/step - loss: 0.4622 - acc: 0.8022\n",
      "Epoch 4/10\n",
      "4319/4319 [==============================] - 22s 5ms/step - loss: 0.4622 - acc: 0.8022\n",
      "Epoch 5/10\n",
      "4319/4319 [==============================] - 22s 5ms/step - loss: 0.4624 - acc: 0.8022\n",
      "Epoch 6/10\n",
      "4319/4319 [==============================] - 24s 5ms/step - loss: 0.4620 - acc: 0.8022\n",
      "Epoch 7/10\n",
      "4319/4319 [==============================] - 22s 5ms/step - loss: 0.4617 - acc: 0.8022\n",
      "Epoch 8/10\n",
      "4319/4319 [==============================] - 22s 5ms/step - loss: 0.4616 - acc: 0.8022\n",
      "Epoch 9/10\n",
      "4319/4319 [==============================] - 22s 5ms/step - loss: 0.4618 - acc: 0.8022\n",
      "Epoch 10/10\n",
      "4319/4319 [==============================] - 22s 5ms/step - loss: 0.4615 - acc: 0.8022\n"
     ]
    },
    {
     "data": {
      "text/plain": [
       "<keras.callbacks.callbacks.History at 0x1a77c9eed0>"
      ]
     },
     "execution_count": 63,
     "metadata": {},
     "output_type": "execute_result"
    }
   ],
   "source": [
    "model_lstm.fit(X_train, y_train, epochs=10, verbose=1)"
   ]
  },
  {
   "cell_type": "code",
   "execution_count": 64,
   "metadata": {},
   "outputs": [
    {
     "name": "stdout",
     "output_type": "stream",
     "text": [
      "1080/1080 [==============================] - 2s 1ms/step\n",
      "Test Score: 0.4656688606297528\n",
      "Test Accuracy: 0.7973544597625732\n"
     ]
    }
   ],
   "source": [
    "# Predict on test dataset\n",
    "score = model_lstm.evaluate(X_test, y_test, verbose=1)\n",
    "\n",
    "print(\"Test Score:\", score[0])\n",
    "print(\"Test Accuracy:\", score[1])"
   ]
  },
  {
   "cell_type": "code",
   "execution_count": 65,
   "metadata": {},
   "outputs": [],
   "source": [
    "## Try another random state\n",
    "X_train2, X_test2, y_train2, y_test2 = \\\n",
    "    train_test_split(X, y, test_size=0.2,random_state=101)"
   ]
  },
  {
   "cell_type": "code",
   "execution_count": 66,
   "metadata": {},
   "outputs": [],
   "source": [
    "tokenizer = Tokenizer(num_words=5000, oov_token=\"UNKNOWN_TOKEN\")\n",
    "tokenizer.fit_on_texts(X_train2)\n",
    "\n",
    "X_train2 = tokenizer.texts_to_sequences(X_train2)\n",
    "X_test2 = tokenizer.texts_to_sequences(X_test2)\n",
    "\n",
    "vocab_size = len(tokenizer.word_index) + 1\n",
    "\n",
    "X_train2 = pad_sequences(X_train2, padding='post', maxlen=max_length)\n",
    "X_test2 = pad_sequences(X_test2, padding='post', maxlen=max_length)"
   ]
  },
  {
   "cell_type": "code",
   "execution_count": 67,
   "metadata": {},
   "outputs": [
    {
     "name": "stdout",
     "output_type": "stream",
     "text": [
      "Epoch 1/5\n",
      "4319/4319 [==============================] - 22s 5ms/step - loss: 0.4604 - acc: 0.8025\n",
      "Epoch 2/5\n",
      "4319/4319 [==============================] - 22s 5ms/step - loss: 0.4604 - acc: 0.8025\n",
      "Epoch 3/5\n",
      "4319/4319 [==============================] - 23s 5ms/step - loss: 0.4604 - acc: 0.8025\n",
      "Epoch 4/5\n",
      "4319/4319 [==============================] - 27s 6ms/step - loss: 0.4604 - acc: 0.8025\n",
      "Epoch 5/5\n",
      "4319/4319 [==============================] - 27s 6ms/step - loss: 0.4604 - acc: 0.8025\n"
     ]
    },
    {
     "data": {
      "text/plain": [
       "<keras.callbacks.callbacks.History at 0x1a77364c50>"
      ]
     },
     "execution_count": 67,
     "metadata": {},
     "output_type": "execute_result"
    }
   ],
   "source": [
    "model_lstm.fit(X_train2, y_train2, epochs=5, verbose=1)"
   ]
  },
  {
   "cell_type": "code",
   "execution_count": 68,
   "metadata": {},
   "outputs": [
    {
     "name": "stdout",
     "output_type": "stream",
     "text": [
      "1080/1080 [==============================] - 2s 2ms/step\n",
      "Test Score: 0.4697401214528967\n",
      "Test Accuracy: 0.7961640954017639\n"
     ]
    }
   ],
   "source": [
    "score2 = model_lstm.evaluate(X_test2, y_test2, verbose=1)\n",
    "\n",
    "print(\"Test Score:\", score2[0])\n",
    "print(\"Test Accuracy:\", score2[1])"
   ]
  },
  {
   "cell_type": "code",
   "execution_count": null,
   "metadata": {},
   "outputs": [],
   "source": []
  }
 ],
 "metadata": {
  "kernelspec": {
   "display_name": "Python 3",
   "language": "python",
   "name": "python3"
  },
  "language_info": {
   "codemirror_mode": {
    "name": "ipython",
    "version": 3
   },
   "file_extension": ".py",
   "mimetype": "text/x-python",
   "name": "python",
   "nbconvert_exporter": "python",
   "pygments_lexer": "ipython3",
   "version": "3.7.6"
  }
 },
 "nbformat": 4,
 "nbformat_minor": 4
}
